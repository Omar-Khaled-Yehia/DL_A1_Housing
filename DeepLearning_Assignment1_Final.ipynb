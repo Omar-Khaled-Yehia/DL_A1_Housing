{
  "cells": [
    {
      "cell_type": "code",
      "execution_count": null,
      "metadata": {
        "id": "7ncepBH1ulnX"
      },
      "outputs": [],
      "source": [
        "import numpy as np\n",
        "import torch\n",
        "import pandas as pd\n",
        "from sklearn.model_selection import train_test_split\n",
        "import matplotlib.pyplot as plt\n",
        "import torch.nn as nn\n",
        "import torch.optim as optim\n",
        "from sklearn.metrics import mean_squared_error, mean_absolute_error,r2_score\n",
        "from torch.utils.data import DataLoader, TensorDataset\n",
        "import matplotlib.pyplot as plt\n",
        "from sklearn.preprocessing import StandardScaler, OneHotEncoder, LabelEncoder,RobustScaler\n",
        "import torch.optim.lr_scheduler as lr_scheduler"
      ]
    },
    {
      "cell_type": "markdown",
      "metadata": {
        "id": "KeX1rwPSulnb"
      },
      "source": [
        "## Dataset Loading"
      ]
    },
    {
      "cell_type": "code",
      "execution_count": null,
      "metadata": {
        "id": "yj3O-bXXulnb"
      },
      "outputs": [],
      "source": [
        "# Load the dataset\n",
        "df = pd.read_csv(\"Housing-1 - Housing-1.csv\")"
      ]
    },
    {
      "cell_type": "code",
      "execution_count": null,
      "metadata": {
        "colab": {
          "base_uri": "https://localhost:8080/",
          "height": 226
        },
        "id": "GSIqgc7fulnc",
        "outputId": "9d5959fe-ae33-4de7-89b2-0d0d7756f416"
      },
      "outputs": [
        {
          "output_type": "execute_result",
          "data": {
            "text/plain": [
              "      price  area  bedrooms  bathrooms  stories mainroad guestroom basement  \\\n",
              "0  13300000  7420         4          2        3      yes        no       no   \n",
              "1  12250000  8960         4          4        4      yes        no       no   \n",
              "2  12250000  9960         3          2        2      yes        no      yes   \n",
              "3  12215000  7500         4          2        2      yes        no      yes   \n",
              "4  11410000  7420         4          1        2      yes       yes      yes   \n",
              "\n",
              "  hotwaterheating airconditioning  parking prefarea furnishingstatus  \n",
              "0              no             yes        2      yes        furnished  \n",
              "1              no             yes        3       no        furnished  \n",
              "2              no              no        2      yes   semi-furnished  \n",
              "3              no             yes        3      yes        furnished  \n",
              "4              no             yes        2       no        furnished  "
            ],
            "text/html": [
              "<div>\n",
              "<style scoped>\n",
              "    .dataframe tbody tr th:only-of-type {\n",
              "        vertical-align: middle;\n",
              "    }\n",
              "\n",
              "    .dataframe tbody tr th {\n",
              "        vertical-align: top;\n",
              "    }\n",
              "\n",
              "    .dataframe thead th {\n",
              "        text-align: right;\n",
              "    }\n",
              "</style>\n",
              "<table border=\"1\" class=\"dataframe\">\n",
              "  <thead>\n",
              "    <tr style=\"text-align: right;\">\n",
              "      <th></th>\n",
              "      <th>price</th>\n",
              "      <th>area</th>\n",
              "      <th>bedrooms</th>\n",
              "      <th>bathrooms</th>\n",
              "      <th>stories</th>\n",
              "      <th>mainroad</th>\n",
              "      <th>guestroom</th>\n",
              "      <th>basement</th>\n",
              "      <th>hotwaterheating</th>\n",
              "      <th>airconditioning</th>\n",
              "      <th>parking</th>\n",
              "      <th>prefarea</th>\n",
              "      <th>furnishingstatus</th>\n",
              "    </tr>\n",
              "  </thead>\n",
              "  <tbody>\n",
              "    <tr>\n",
              "      <th>0</th>\n",
              "      <td>13300000</td>\n",
              "      <td>7420</td>\n",
              "      <td>4</td>\n",
              "      <td>2</td>\n",
              "      <td>3</td>\n",
              "      <td>yes</td>\n",
              "      <td>no</td>\n",
              "      <td>no</td>\n",
              "      <td>no</td>\n",
              "      <td>yes</td>\n",
              "      <td>2</td>\n",
              "      <td>yes</td>\n",
              "      <td>furnished</td>\n",
              "    </tr>\n",
              "    <tr>\n",
              "      <th>1</th>\n",
              "      <td>12250000</td>\n",
              "      <td>8960</td>\n",
              "      <td>4</td>\n",
              "      <td>4</td>\n",
              "      <td>4</td>\n",
              "      <td>yes</td>\n",
              "      <td>no</td>\n",
              "      <td>no</td>\n",
              "      <td>no</td>\n",
              "      <td>yes</td>\n",
              "      <td>3</td>\n",
              "      <td>no</td>\n",
              "      <td>furnished</td>\n",
              "    </tr>\n",
              "    <tr>\n",
              "      <th>2</th>\n",
              "      <td>12250000</td>\n",
              "      <td>9960</td>\n",
              "      <td>3</td>\n",
              "      <td>2</td>\n",
              "      <td>2</td>\n",
              "      <td>yes</td>\n",
              "      <td>no</td>\n",
              "      <td>yes</td>\n",
              "      <td>no</td>\n",
              "      <td>no</td>\n",
              "      <td>2</td>\n",
              "      <td>yes</td>\n",
              "      <td>semi-furnished</td>\n",
              "    </tr>\n",
              "    <tr>\n",
              "      <th>3</th>\n",
              "      <td>12215000</td>\n",
              "      <td>7500</td>\n",
              "      <td>4</td>\n",
              "      <td>2</td>\n",
              "      <td>2</td>\n",
              "      <td>yes</td>\n",
              "      <td>no</td>\n",
              "      <td>yes</td>\n",
              "      <td>no</td>\n",
              "      <td>yes</td>\n",
              "      <td>3</td>\n",
              "      <td>yes</td>\n",
              "      <td>furnished</td>\n",
              "    </tr>\n",
              "    <tr>\n",
              "      <th>4</th>\n",
              "      <td>11410000</td>\n",
              "      <td>7420</td>\n",
              "      <td>4</td>\n",
              "      <td>1</td>\n",
              "      <td>2</td>\n",
              "      <td>yes</td>\n",
              "      <td>yes</td>\n",
              "      <td>yes</td>\n",
              "      <td>no</td>\n",
              "      <td>yes</td>\n",
              "      <td>2</td>\n",
              "      <td>no</td>\n",
              "      <td>furnished</td>\n",
              "    </tr>\n",
              "  </tbody>\n",
              "</table>\n",
              "</div>"
            ]
          },
          "metadata": {},
          "execution_count": 3
        }
      ],
      "source": [
        "df.head()"
      ]
    },
    {
      "cell_type": "code",
      "execution_count": null,
      "metadata": {
        "colab": {
          "base_uri": "https://localhost:8080/"
        },
        "id": "fVBrjP0Zulnc",
        "outputId": "9d7016c1-4e3a-40ed-e8ff-d718c67d4d5c"
      },
      "outputs": [
        {
          "output_type": "execute_result",
          "data": {
            "text/plain": [
              "price               219\n",
              "area                284\n",
              "bedrooms              6\n",
              "bathrooms             4\n",
              "stories               4\n",
              "mainroad              2\n",
              "guestroom             2\n",
              "basement              2\n",
              "hotwaterheating       2\n",
              "airconditioning       2\n",
              "parking               4\n",
              "prefarea              2\n",
              "furnishingstatus      3\n",
              "dtype: int64"
            ]
          },
          "metadata": {},
          "execution_count": 4
        }
      ],
      "source": [
        "df.nunique()"
      ]
    },
    {
      "cell_type": "code",
      "source": [
        "df.info()"
      ],
      "metadata": {
        "colab": {
          "base_uri": "https://localhost:8080/"
        },
        "id": "NNVyOiCFvJgX",
        "outputId": "bb990e6c-5169-49bf-b7ee-a84a994f4b94"
      },
      "execution_count": null,
      "outputs": [
        {
          "output_type": "stream",
          "name": "stdout",
          "text": [
            "<class 'pandas.core.frame.DataFrame'>\n",
            "RangeIndex: 545 entries, 0 to 544\n",
            "Data columns (total 13 columns):\n",
            " #   Column            Non-Null Count  Dtype \n",
            "---  ------            --------------  ----- \n",
            " 0   price             545 non-null    int64 \n",
            " 1   area              545 non-null    int64 \n",
            " 2   bedrooms          545 non-null    int64 \n",
            " 3   bathrooms         545 non-null    int64 \n",
            " 4   stories           545 non-null    int64 \n",
            " 5   mainroad          545 non-null    object\n",
            " 6   guestroom         545 non-null    object\n",
            " 7   basement          545 non-null    object\n",
            " 8   hotwaterheating   545 non-null    object\n",
            " 9   airconditioning   545 non-null    object\n",
            " 10  parking           545 non-null    int64 \n",
            " 11  prefarea          545 non-null    object\n",
            " 12  furnishingstatus  545 non-null    object\n",
            "dtypes: int64(6), object(7)\n",
            "memory usage: 55.5+ KB\n"
          ]
        }
      ]
    },
    {
      "cell_type": "code",
      "source": [
        "df.describe()"
      ],
      "metadata": {
        "colab": {
          "base_uri": "https://localhost:8080/",
          "height": 300
        },
        "id": "_DqDG2GWvL9_",
        "outputId": "7123bbdb-603b-4bd3-c5f5-21034ca1b81a"
      },
      "execution_count": null,
      "outputs": [
        {
          "output_type": "execute_result",
          "data": {
            "text/plain": [
              "              price          area    bedrooms   bathrooms     stories  \\\n",
              "count  5.450000e+02    545.000000  545.000000  545.000000  545.000000   \n",
              "mean   4.766729e+06   5150.541284    2.965138    1.286239    1.805505   \n",
              "std    1.870440e+06   2170.141023    0.738064    0.502470    0.867492   \n",
              "min    1.750000e+06   1650.000000    1.000000    1.000000    1.000000   \n",
              "25%    3.430000e+06   3600.000000    2.000000    1.000000    1.000000   \n",
              "50%    4.340000e+06   4600.000000    3.000000    1.000000    2.000000   \n",
              "75%    5.740000e+06   6360.000000    3.000000    2.000000    2.000000   \n",
              "max    1.330000e+07  16200.000000    6.000000    4.000000    4.000000   \n",
              "\n",
              "          parking  \n",
              "count  545.000000  \n",
              "mean     0.693578  \n",
              "std      0.861586  \n",
              "min      0.000000  \n",
              "25%      0.000000  \n",
              "50%      0.000000  \n",
              "75%      1.000000  \n",
              "max      3.000000  "
            ],
            "text/html": [
              "<div>\n",
              "<style scoped>\n",
              "    .dataframe tbody tr th:only-of-type {\n",
              "        vertical-align: middle;\n",
              "    }\n",
              "\n",
              "    .dataframe tbody tr th {\n",
              "        vertical-align: top;\n",
              "    }\n",
              "\n",
              "    .dataframe thead th {\n",
              "        text-align: right;\n",
              "    }\n",
              "</style>\n",
              "<table border=\"1\" class=\"dataframe\">\n",
              "  <thead>\n",
              "    <tr style=\"text-align: right;\">\n",
              "      <th></th>\n",
              "      <th>price</th>\n",
              "      <th>area</th>\n",
              "      <th>bedrooms</th>\n",
              "      <th>bathrooms</th>\n",
              "      <th>stories</th>\n",
              "      <th>parking</th>\n",
              "    </tr>\n",
              "  </thead>\n",
              "  <tbody>\n",
              "    <tr>\n",
              "      <th>count</th>\n",
              "      <td>5.450000e+02</td>\n",
              "      <td>545.000000</td>\n",
              "      <td>545.000000</td>\n",
              "      <td>545.000000</td>\n",
              "      <td>545.000000</td>\n",
              "      <td>545.000000</td>\n",
              "    </tr>\n",
              "    <tr>\n",
              "      <th>mean</th>\n",
              "      <td>4.766729e+06</td>\n",
              "      <td>5150.541284</td>\n",
              "      <td>2.965138</td>\n",
              "      <td>1.286239</td>\n",
              "      <td>1.805505</td>\n",
              "      <td>0.693578</td>\n",
              "    </tr>\n",
              "    <tr>\n",
              "      <th>std</th>\n",
              "      <td>1.870440e+06</td>\n",
              "      <td>2170.141023</td>\n",
              "      <td>0.738064</td>\n",
              "      <td>0.502470</td>\n",
              "      <td>0.867492</td>\n",
              "      <td>0.861586</td>\n",
              "    </tr>\n",
              "    <tr>\n",
              "      <th>min</th>\n",
              "      <td>1.750000e+06</td>\n",
              "      <td>1650.000000</td>\n",
              "      <td>1.000000</td>\n",
              "      <td>1.000000</td>\n",
              "      <td>1.000000</td>\n",
              "      <td>0.000000</td>\n",
              "    </tr>\n",
              "    <tr>\n",
              "      <th>25%</th>\n",
              "      <td>3.430000e+06</td>\n",
              "      <td>3600.000000</td>\n",
              "      <td>2.000000</td>\n",
              "      <td>1.000000</td>\n",
              "      <td>1.000000</td>\n",
              "      <td>0.000000</td>\n",
              "    </tr>\n",
              "    <tr>\n",
              "      <th>50%</th>\n",
              "      <td>4.340000e+06</td>\n",
              "      <td>4600.000000</td>\n",
              "      <td>3.000000</td>\n",
              "      <td>1.000000</td>\n",
              "      <td>2.000000</td>\n",
              "      <td>0.000000</td>\n",
              "    </tr>\n",
              "    <tr>\n",
              "      <th>75%</th>\n",
              "      <td>5.740000e+06</td>\n",
              "      <td>6360.000000</td>\n",
              "      <td>3.000000</td>\n",
              "      <td>2.000000</td>\n",
              "      <td>2.000000</td>\n",
              "      <td>1.000000</td>\n",
              "    </tr>\n",
              "    <tr>\n",
              "      <th>max</th>\n",
              "      <td>1.330000e+07</td>\n",
              "      <td>16200.000000</td>\n",
              "      <td>6.000000</td>\n",
              "      <td>4.000000</td>\n",
              "      <td>4.000000</td>\n",
              "      <td>3.000000</td>\n",
              "    </tr>\n",
              "  </tbody>\n",
              "</table>\n",
              "</div>"
            ]
          },
          "metadata": {},
          "execution_count": 6
        }
      ]
    },
    {
      "cell_type": "code",
      "source": [
        "df.isna().sum()"
      ],
      "metadata": {
        "colab": {
          "base_uri": "https://localhost:8080/"
        },
        "id": "NIpf9eyVvQzj",
        "outputId": "a9a14898-8686-4e33-8442-b5d15d2b1534"
      },
      "execution_count": null,
      "outputs": [
        {
          "output_type": "execute_result",
          "data": {
            "text/plain": [
              "price               0\n",
              "area                0\n",
              "bedrooms            0\n",
              "bathrooms           0\n",
              "stories             0\n",
              "mainroad            0\n",
              "guestroom           0\n",
              "basement            0\n",
              "hotwaterheating     0\n",
              "airconditioning     0\n",
              "parking             0\n",
              "prefarea            0\n",
              "furnishingstatus    0\n",
              "dtype: int64"
            ]
          },
          "metadata": {},
          "execution_count": 7
        }
      ]
    },
    {
      "cell_type": "code",
      "source": [
        "df.duplicated().sum()"
      ],
      "metadata": {
        "colab": {
          "base_uri": "https://localhost:8080/"
        },
        "id": "fSUcaZthvSnT",
        "outputId": "bf9acc97-ace6-4f55-d116-0edabe32dba3"
      },
      "execution_count": null,
      "outputs": [
        {
          "output_type": "execute_result",
          "data": {
            "text/plain": [
              "0"
            ]
          },
          "metadata": {},
          "execution_count": 8
        }
      ]
    },
    {
      "cell_type": "code",
      "execution_count": null,
      "metadata": {
        "id": "-FrIVufJulnd"
      },
      "outputs": [],
      "source": [
        "# Step 2: Encoding Categorical Variables\n",
        "# Use OneHotEncoder for categorical features\n",
        "categorical_cols = ['mainroad', 'guestroom', 'basement', 'hotwaterheating',\n",
        "                    'airconditioning', 'prefarea']\n",
        "\n",
        "# Corrected OneHotEncoder usage\n",
        "encoder = OneHotEncoder(sparse_output=False, drop='first')  # drop='first' to avoid dummy variable trap\n",
        "encoded_categorical = encoder.fit_transform(df[categorical_cols])\n",
        "encoded_df = pd.DataFrame(encoded_categorical, columns=encoder.get_feature_names_out(categorical_cols))\n",
        "\n",
        "\n",
        "# Step 3: Combine encoded categorical columns with the original DataFrame\n",
        "df = pd.concat([df.reset_index(drop=True), encoded_df.reset_index(drop=True)], axis=1)\n",
        "\n",
        "# Step 4: Drop the original categorical columns from the DataFrame\n",
        "df.drop(categorical_cols, axis=1, inplace=True)\n",
        "\n",
        "LabelEncoder = LabelEncoder()\n",
        "df['furnishingstatus'] = LabelEncoder.fit_transform(df['furnishingstatus'])\n",
        "df.drop('furnishingstatus', axis=1, inplace=True)\n",
        "# Step 5: Feature Scaling\n",
        "scaler = StandardScaler()\n",
        "numerical_cols = ['area', 'bedrooms', 'bathrooms', 'stories', 'parking']\n",
        "df[numerical_cols] = scaler.fit_transform(df[numerical_cols])"
      ]
    },
    {
      "cell_type": "code",
      "execution_count": null,
      "metadata": {
        "colab": {
          "base_uri": "https://localhost:8080/",
          "height": 443
        },
        "id": "4Mm3FIvgulnd",
        "outputId": "3e09e3f8-f7c2-4b9c-f50d-0451e8933fad"
      },
      "outputs": [
        {
          "output_type": "execute_result",
          "data": {
            "text/plain": [
              "        price      area  bedrooms  bathrooms   stories   parking  \\\n",
              "0    13300000  1.046726  1.403419   1.421812  1.378217  1.517692   \n",
              "1    12250000  1.757010  1.403419   5.405809  2.532024  2.679409   \n",
              "2    12250000  2.218232  0.047278   1.421812  0.224410  1.517692   \n",
              "3    12215000  1.083624  1.403419   1.421812  0.224410  2.679409   \n",
              "4    11410000  1.046726  1.403419  -0.570187  0.224410  1.517692   \n",
              "..        ...       ...       ...        ...       ...       ...   \n",
              "540   1820000 -0.991879 -1.308863  -0.570187 -0.929397  1.517692   \n",
              "541   1767150 -1.268613  0.047278  -0.570187 -0.929397 -0.805741   \n",
              "542   1750000 -0.705921 -1.308863  -0.570187 -0.929397 -0.805741   \n",
              "543   1750000 -1.033389  0.047278  -0.570187 -0.929397 -0.805741   \n",
              "544   1750000 -0.599839  0.047278  -0.570187  0.224410 -0.805741   \n",
              "\n",
              "     mainroad_yes  guestroom_yes  basement_yes  hotwaterheating_yes  \\\n",
              "0             1.0            0.0           0.0                  0.0   \n",
              "1             1.0            0.0           0.0                  0.0   \n",
              "2             1.0            0.0           1.0                  0.0   \n",
              "3             1.0            0.0           1.0                  0.0   \n",
              "4             1.0            1.0           1.0                  0.0   \n",
              "..            ...            ...           ...                  ...   \n",
              "540           1.0            0.0           1.0                  0.0   \n",
              "541           0.0            0.0           0.0                  0.0   \n",
              "542           1.0            0.0           0.0                  0.0   \n",
              "543           0.0            0.0           0.0                  0.0   \n",
              "544           1.0            0.0           0.0                  0.0   \n",
              "\n",
              "     airconditioning_yes  prefarea_yes  \n",
              "0                    1.0           1.0  \n",
              "1                    1.0           0.0  \n",
              "2                    0.0           1.0  \n",
              "3                    1.0           1.0  \n",
              "4                    1.0           0.0  \n",
              "..                   ...           ...  \n",
              "540                  0.0           0.0  \n",
              "541                  0.0           0.0  \n",
              "542                  0.0           0.0  \n",
              "543                  0.0           0.0  \n",
              "544                  0.0           0.0  \n",
              "\n",
              "[545 rows x 12 columns]"
            ],
            "text/html": [
              "<div>\n",
              "<style scoped>\n",
              "    .dataframe tbody tr th:only-of-type {\n",
              "        vertical-align: middle;\n",
              "    }\n",
              "\n",
              "    .dataframe tbody tr th {\n",
              "        vertical-align: top;\n",
              "    }\n",
              "\n",
              "    .dataframe thead th {\n",
              "        text-align: right;\n",
              "    }\n",
              "</style>\n",
              "<table border=\"1\" class=\"dataframe\">\n",
              "  <thead>\n",
              "    <tr style=\"text-align: right;\">\n",
              "      <th></th>\n",
              "      <th>price</th>\n",
              "      <th>area</th>\n",
              "      <th>bedrooms</th>\n",
              "      <th>bathrooms</th>\n",
              "      <th>stories</th>\n",
              "      <th>parking</th>\n",
              "      <th>mainroad_yes</th>\n",
              "      <th>guestroom_yes</th>\n",
              "      <th>basement_yes</th>\n",
              "      <th>hotwaterheating_yes</th>\n",
              "      <th>airconditioning_yes</th>\n",
              "      <th>prefarea_yes</th>\n",
              "    </tr>\n",
              "  </thead>\n",
              "  <tbody>\n",
              "    <tr>\n",
              "      <th>0</th>\n",
              "      <td>13300000</td>\n",
              "      <td>1.046726</td>\n",
              "      <td>1.403419</td>\n",
              "      <td>1.421812</td>\n",
              "      <td>1.378217</td>\n",
              "      <td>1.517692</td>\n",
              "      <td>1.0</td>\n",
              "      <td>0.0</td>\n",
              "      <td>0.0</td>\n",
              "      <td>0.0</td>\n",
              "      <td>1.0</td>\n",
              "      <td>1.0</td>\n",
              "    </tr>\n",
              "    <tr>\n",
              "      <th>1</th>\n",
              "      <td>12250000</td>\n",
              "      <td>1.757010</td>\n",
              "      <td>1.403419</td>\n",
              "      <td>5.405809</td>\n",
              "      <td>2.532024</td>\n",
              "      <td>2.679409</td>\n",
              "      <td>1.0</td>\n",
              "      <td>0.0</td>\n",
              "      <td>0.0</td>\n",
              "      <td>0.0</td>\n",
              "      <td>1.0</td>\n",
              "      <td>0.0</td>\n",
              "    </tr>\n",
              "    <tr>\n",
              "      <th>2</th>\n",
              "      <td>12250000</td>\n",
              "      <td>2.218232</td>\n",
              "      <td>0.047278</td>\n",
              "      <td>1.421812</td>\n",
              "      <td>0.224410</td>\n",
              "      <td>1.517692</td>\n",
              "      <td>1.0</td>\n",
              "      <td>0.0</td>\n",
              "      <td>1.0</td>\n",
              "      <td>0.0</td>\n",
              "      <td>0.0</td>\n",
              "      <td>1.0</td>\n",
              "    </tr>\n",
              "    <tr>\n",
              "      <th>3</th>\n",
              "      <td>12215000</td>\n",
              "      <td>1.083624</td>\n",
              "      <td>1.403419</td>\n",
              "      <td>1.421812</td>\n",
              "      <td>0.224410</td>\n",
              "      <td>2.679409</td>\n",
              "      <td>1.0</td>\n",
              "      <td>0.0</td>\n",
              "      <td>1.0</td>\n",
              "      <td>0.0</td>\n",
              "      <td>1.0</td>\n",
              "      <td>1.0</td>\n",
              "    </tr>\n",
              "    <tr>\n",
              "      <th>4</th>\n",
              "      <td>11410000</td>\n",
              "      <td>1.046726</td>\n",
              "      <td>1.403419</td>\n",
              "      <td>-0.570187</td>\n",
              "      <td>0.224410</td>\n",
              "      <td>1.517692</td>\n",
              "      <td>1.0</td>\n",
              "      <td>1.0</td>\n",
              "      <td>1.0</td>\n",
              "      <td>0.0</td>\n",
              "      <td>1.0</td>\n",
              "      <td>0.0</td>\n",
              "    </tr>\n",
              "    <tr>\n",
              "      <th>...</th>\n",
              "      <td>...</td>\n",
              "      <td>...</td>\n",
              "      <td>...</td>\n",
              "      <td>...</td>\n",
              "      <td>...</td>\n",
              "      <td>...</td>\n",
              "      <td>...</td>\n",
              "      <td>...</td>\n",
              "      <td>...</td>\n",
              "      <td>...</td>\n",
              "      <td>...</td>\n",
              "      <td>...</td>\n",
              "    </tr>\n",
              "    <tr>\n",
              "      <th>540</th>\n",
              "      <td>1820000</td>\n",
              "      <td>-0.991879</td>\n",
              "      <td>-1.308863</td>\n",
              "      <td>-0.570187</td>\n",
              "      <td>-0.929397</td>\n",
              "      <td>1.517692</td>\n",
              "      <td>1.0</td>\n",
              "      <td>0.0</td>\n",
              "      <td>1.0</td>\n",
              "      <td>0.0</td>\n",
              "      <td>0.0</td>\n",
              "      <td>0.0</td>\n",
              "    </tr>\n",
              "    <tr>\n",
              "      <th>541</th>\n",
              "      <td>1767150</td>\n",
              "      <td>-1.268613</td>\n",
              "      <td>0.047278</td>\n",
              "      <td>-0.570187</td>\n",
              "      <td>-0.929397</td>\n",
              "      <td>-0.805741</td>\n",
              "      <td>0.0</td>\n",
              "      <td>0.0</td>\n",
              "      <td>0.0</td>\n",
              "      <td>0.0</td>\n",
              "      <td>0.0</td>\n",
              "      <td>0.0</td>\n",
              "    </tr>\n",
              "    <tr>\n",
              "      <th>542</th>\n",
              "      <td>1750000</td>\n",
              "      <td>-0.705921</td>\n",
              "      <td>-1.308863</td>\n",
              "      <td>-0.570187</td>\n",
              "      <td>-0.929397</td>\n",
              "      <td>-0.805741</td>\n",
              "      <td>1.0</td>\n",
              "      <td>0.0</td>\n",
              "      <td>0.0</td>\n",
              "      <td>0.0</td>\n",
              "      <td>0.0</td>\n",
              "      <td>0.0</td>\n",
              "    </tr>\n",
              "    <tr>\n",
              "      <th>543</th>\n",
              "      <td>1750000</td>\n",
              "      <td>-1.033389</td>\n",
              "      <td>0.047278</td>\n",
              "      <td>-0.570187</td>\n",
              "      <td>-0.929397</td>\n",
              "      <td>-0.805741</td>\n",
              "      <td>0.0</td>\n",
              "      <td>0.0</td>\n",
              "      <td>0.0</td>\n",
              "      <td>0.0</td>\n",
              "      <td>0.0</td>\n",
              "      <td>0.0</td>\n",
              "    </tr>\n",
              "    <tr>\n",
              "      <th>544</th>\n",
              "      <td>1750000</td>\n",
              "      <td>-0.599839</td>\n",
              "      <td>0.047278</td>\n",
              "      <td>-0.570187</td>\n",
              "      <td>0.224410</td>\n",
              "      <td>-0.805741</td>\n",
              "      <td>1.0</td>\n",
              "      <td>0.0</td>\n",
              "      <td>0.0</td>\n",
              "      <td>0.0</td>\n",
              "      <td>0.0</td>\n",
              "      <td>0.0</td>\n",
              "    </tr>\n",
              "  </tbody>\n",
              "</table>\n",
              "<p>545 rows × 12 columns</p>\n",
              "</div>"
            ]
          },
          "metadata": {},
          "execution_count": 10
        }
      ],
      "source": [
        "df"
      ]
    },
    {
      "cell_type": "markdown",
      "metadata": {
        "id": "_kEbHXsxulne"
      },
      "source": [
        "## Data Cleaning Process for Outlier Detection\n",
        "\n",
        "**Outlier Detection Using IQR**:\n",
        "   - We calculate the first (Q1) and third (Q3) quartiles of the target variable `y`.\n",
        "   - The Interquartile Range (IQR) is computed as the difference between Q3 and Q1. This IQR helps identify the spread of the middle 50% of the data.\n",
        "   - Using the IQR, we set lower and upper bounds for outlier detection: any data point falling below the lower bound (`Q1 - 1.5 * IQR`) or above the upper bound (`Q3 + 1.5 * IQR`) is considered an outlier.\n",
        "\n",
        "\n",
        "\n",
        "\n"
      ]
    },
    {
      "cell_type": "code",
      "execution_count": null,
      "metadata": {
        "colab": {
          "base_uri": "https://localhost:8080/",
          "height": 443
        },
        "id": "6C8Pw_Rgulne",
        "outputId": "3a59e88e-edca-40cd-a0e3-b0fce703e079"
      },
      "outputs": [
        {
          "output_type": "execute_result",
          "data": {
            "text/plain": [
              "         area  bedrooms  bathrooms   stories   parking  mainroad_yes  \\\n",
              "15   0.391790  1.403419  -0.570187  0.224410  1.517692           1.0   \n",
              "16   0.668524  1.403419   1.421812  0.224410  0.355976           1.0   \n",
              "17   1.544847  0.047278   1.421812  2.532024  1.517692           1.0   \n",
              "18  -0.253922  0.047278   1.421812  0.224410  1.517692           1.0   \n",
              "19   0.585503  0.047278   1.421812  0.224410  0.355976           1.0   \n",
              "..        ...       ...        ...       ...       ...           ...   \n",
              "540 -0.991879 -1.308863  -0.570187 -0.929397  1.517692           1.0   \n",
              "541 -1.268613  0.047278  -0.570187 -0.929397 -0.805741           0.0   \n",
              "542 -0.705921 -1.308863  -0.570187 -0.929397 -0.805741           1.0   \n",
              "543 -1.033389  0.047278  -0.570187 -0.929397 -0.805741           0.0   \n",
              "544 -0.599839  0.047278  -0.570187  0.224410 -0.805741           1.0   \n",
              "\n",
              "     guestroom_yes  basement_yes  hotwaterheating_yes  airconditioning_yes  \\\n",
              "15             0.0           1.0                  0.0                  0.0   \n",
              "16             1.0           1.0                  0.0                  1.0   \n",
              "17             0.0           0.0                  0.0                  1.0   \n",
              "18             1.0           0.0                  0.0                  1.0   \n",
              "19             0.0           0.0                  0.0                  1.0   \n",
              "..             ...           ...                  ...                  ...   \n",
              "540            0.0           1.0                  0.0                  0.0   \n",
              "541            0.0           0.0                  0.0                  0.0   \n",
              "542            0.0           0.0                  0.0                  0.0   \n",
              "543            0.0           0.0                  0.0                  0.0   \n",
              "544            0.0           0.0                  0.0                  0.0   \n",
              "\n",
              "     prefarea_yes  \n",
              "15            0.0  \n",
              "16            1.0  \n",
              "17            0.0  \n",
              "18            0.0  \n",
              "19            1.0  \n",
              "..            ...  \n",
              "540           0.0  \n",
              "541           0.0  \n",
              "542           0.0  \n",
              "543           0.0  \n",
              "544           0.0  \n",
              "\n",
              "[530 rows x 11 columns]"
            ],
            "text/html": [
              "<div>\n",
              "<style scoped>\n",
              "    .dataframe tbody tr th:only-of-type {\n",
              "        vertical-align: middle;\n",
              "    }\n",
              "\n",
              "    .dataframe tbody tr th {\n",
              "        vertical-align: top;\n",
              "    }\n",
              "\n",
              "    .dataframe thead th {\n",
              "        text-align: right;\n",
              "    }\n",
              "</style>\n",
              "<table border=\"1\" class=\"dataframe\">\n",
              "  <thead>\n",
              "    <tr style=\"text-align: right;\">\n",
              "      <th></th>\n",
              "      <th>area</th>\n",
              "      <th>bedrooms</th>\n",
              "      <th>bathrooms</th>\n",
              "      <th>stories</th>\n",
              "      <th>parking</th>\n",
              "      <th>mainroad_yes</th>\n",
              "      <th>guestroom_yes</th>\n",
              "      <th>basement_yes</th>\n",
              "      <th>hotwaterheating_yes</th>\n",
              "      <th>airconditioning_yes</th>\n",
              "      <th>prefarea_yes</th>\n",
              "    </tr>\n",
              "  </thead>\n",
              "  <tbody>\n",
              "    <tr>\n",
              "      <th>15</th>\n",
              "      <td>0.391790</td>\n",
              "      <td>1.403419</td>\n",
              "      <td>-0.570187</td>\n",
              "      <td>0.224410</td>\n",
              "      <td>1.517692</td>\n",
              "      <td>1.0</td>\n",
              "      <td>0.0</td>\n",
              "      <td>1.0</td>\n",
              "      <td>0.0</td>\n",
              "      <td>0.0</td>\n",
              "      <td>0.0</td>\n",
              "    </tr>\n",
              "    <tr>\n",
              "      <th>16</th>\n",
              "      <td>0.668524</td>\n",
              "      <td>1.403419</td>\n",
              "      <td>1.421812</td>\n",
              "      <td>0.224410</td>\n",
              "      <td>0.355976</td>\n",
              "      <td>1.0</td>\n",
              "      <td>1.0</td>\n",
              "      <td>1.0</td>\n",
              "      <td>0.0</td>\n",
              "      <td>1.0</td>\n",
              "      <td>1.0</td>\n",
              "    </tr>\n",
              "    <tr>\n",
              "      <th>17</th>\n",
              "      <td>1.544847</td>\n",
              "      <td>0.047278</td>\n",
              "      <td>1.421812</td>\n",
              "      <td>2.532024</td>\n",
              "      <td>1.517692</td>\n",
              "      <td>1.0</td>\n",
              "      <td>0.0</td>\n",
              "      <td>0.0</td>\n",
              "      <td>0.0</td>\n",
              "      <td>1.0</td>\n",
              "      <td>0.0</td>\n",
              "    </tr>\n",
              "    <tr>\n",
              "      <th>18</th>\n",
              "      <td>-0.253922</td>\n",
              "      <td>0.047278</td>\n",
              "      <td>1.421812</td>\n",
              "      <td>0.224410</td>\n",
              "      <td>1.517692</td>\n",
              "      <td>1.0</td>\n",
              "      <td>1.0</td>\n",
              "      <td>0.0</td>\n",
              "      <td>0.0</td>\n",
              "      <td>1.0</td>\n",
              "      <td>0.0</td>\n",
              "    </tr>\n",
              "    <tr>\n",
              "      <th>19</th>\n",
              "      <td>0.585503</td>\n",
              "      <td>0.047278</td>\n",
              "      <td>1.421812</td>\n",
              "      <td>0.224410</td>\n",
              "      <td>0.355976</td>\n",
              "      <td>1.0</td>\n",
              "      <td>0.0</td>\n",
              "      <td>0.0</td>\n",
              "      <td>0.0</td>\n",
              "      <td>1.0</td>\n",
              "      <td>1.0</td>\n",
              "    </tr>\n",
              "    <tr>\n",
              "      <th>...</th>\n",
              "      <td>...</td>\n",
              "      <td>...</td>\n",
              "      <td>...</td>\n",
              "      <td>...</td>\n",
              "      <td>...</td>\n",
              "      <td>...</td>\n",
              "      <td>...</td>\n",
              "      <td>...</td>\n",
              "      <td>...</td>\n",
              "      <td>...</td>\n",
              "      <td>...</td>\n",
              "    </tr>\n",
              "    <tr>\n",
              "      <th>540</th>\n",
              "      <td>-0.991879</td>\n",
              "      <td>-1.308863</td>\n",
              "      <td>-0.570187</td>\n",
              "      <td>-0.929397</td>\n",
              "      <td>1.517692</td>\n",
              "      <td>1.0</td>\n",
              "      <td>0.0</td>\n",
              "      <td>1.0</td>\n",
              "      <td>0.0</td>\n",
              "      <td>0.0</td>\n",
              "      <td>0.0</td>\n",
              "    </tr>\n",
              "    <tr>\n",
              "      <th>541</th>\n",
              "      <td>-1.268613</td>\n",
              "      <td>0.047278</td>\n",
              "      <td>-0.570187</td>\n",
              "      <td>-0.929397</td>\n",
              "      <td>-0.805741</td>\n",
              "      <td>0.0</td>\n",
              "      <td>0.0</td>\n",
              "      <td>0.0</td>\n",
              "      <td>0.0</td>\n",
              "      <td>0.0</td>\n",
              "      <td>0.0</td>\n",
              "    </tr>\n",
              "    <tr>\n",
              "      <th>542</th>\n",
              "      <td>-0.705921</td>\n",
              "      <td>-1.308863</td>\n",
              "      <td>-0.570187</td>\n",
              "      <td>-0.929397</td>\n",
              "      <td>-0.805741</td>\n",
              "      <td>1.0</td>\n",
              "      <td>0.0</td>\n",
              "      <td>0.0</td>\n",
              "      <td>0.0</td>\n",
              "      <td>0.0</td>\n",
              "      <td>0.0</td>\n",
              "    </tr>\n",
              "    <tr>\n",
              "      <th>543</th>\n",
              "      <td>-1.033389</td>\n",
              "      <td>0.047278</td>\n",
              "      <td>-0.570187</td>\n",
              "      <td>-0.929397</td>\n",
              "      <td>-0.805741</td>\n",
              "      <td>0.0</td>\n",
              "      <td>0.0</td>\n",
              "      <td>0.0</td>\n",
              "      <td>0.0</td>\n",
              "      <td>0.0</td>\n",
              "      <td>0.0</td>\n",
              "    </tr>\n",
              "    <tr>\n",
              "      <th>544</th>\n",
              "      <td>-0.599839</td>\n",
              "      <td>0.047278</td>\n",
              "      <td>-0.570187</td>\n",
              "      <td>0.224410</td>\n",
              "      <td>-0.805741</td>\n",
              "      <td>1.0</td>\n",
              "      <td>0.0</td>\n",
              "      <td>0.0</td>\n",
              "      <td>0.0</td>\n",
              "      <td>0.0</td>\n",
              "      <td>0.0</td>\n",
              "    </tr>\n",
              "  </tbody>\n",
              "</table>\n",
              "<p>530 rows × 11 columns</p>\n",
              "</div>"
            ]
          },
          "metadata": {},
          "execution_count": 11
        }
      ],
      "source": [
        "# Calculate the first quartile (Q1) of the target variable 'price'\n",
        "Q1 = np.percentile(np.array(df['price']).reshape(-1,1), 25)\n",
        "\n",
        "# Calculate the third quartile (Q3) of the target variable 'price'\n",
        "Q3 = np.percentile(np.array(df['price']).reshape(-1,1), 75)\n",
        "\n",
        "# Calculate the Interquartile Range (IQR)\n",
        "IQR = Q3 - Q1\n",
        "\n",
        "# Determine the lower and upper bounds for detecting outliers\n",
        "lower_bound = Q1 - 1.5 * IQR\n",
        "upper_bound = Q3 + 1.5 * IQR\n",
        "\n",
        "df = df[(df['price'] >= lower_bound) & (df['price'] <= upper_bound)]\n",
        "\n",
        "# Update X and y with the cleaned data\n",
        "X = df.drop('price', axis=1) # Reassign X with the cleaned 'area' data\n",
        "y = np.array(df['price'])  # Reassign y with the cleaned 'price' data\n",
        "\n",
        "X"
      ]
    },
    {
      "cell_type": "code",
      "execution_count": null,
      "metadata": {
        "colab": {
          "base_uri": "https://localhost:8080/"
        },
        "id": "g8rnQiOSulne",
        "outputId": "52c2b707-aed2-414a-92fe-d1c36bb7d2c8"
      },
      "outputs": [
        {
          "output_type": "execute_result",
          "data": {
            "text/plain": [
              "area                   float64\n",
              "bedrooms               float64\n",
              "bathrooms              float64\n",
              "stories                float64\n",
              "parking                float64\n",
              "mainroad_yes           float64\n",
              "guestroom_yes          float64\n",
              "basement_yes           float64\n",
              "hotwaterheating_yes    float64\n",
              "airconditioning_yes    float64\n",
              "prefarea_yes           float64\n",
              "dtype: object"
            ]
          },
          "metadata": {},
          "execution_count": 12
        }
      ],
      "source": [
        "X.dtypes"
      ]
    },
    {
      "cell_type": "code",
      "execution_count": null,
      "metadata": {
        "id": "TuE_ZAGiulne"
      },
      "outputs": [],
      "source": [
        "# Train-test split: 60% train , 40% val + test\n",
        "X_train, X_test, y_train, y_test = train_test_split(X, y, test_size=0.4, random_state=42)\n",
        "# Train-test split: 20% val, 20% test\n",
        "X_val, X_test, y_val, y_test = train_test_split(X_test, y_test, test_size=0.2, random_state=42)\n",
        "scaler = StandardScaler()\n",
        "X_train = scaler.fit_transform(X_train)\n",
        "X_test=scaler.transform(X_test)\n",
        "X_val=scaler.transform(X_val)\n",
        "y_train = y_train.reshape(-1, 1)\n",
        "y_val = y_val.reshape(-1, 1)\n",
        "y_test = y_test.reshape(-1, 1)\n",
        "y_train = scaler.fit_transform(y_train)\n",
        "y_val = scaler.transform(y_val)\n",
        "y_test = scaler.transform(y_test)"
      ]
    },
    {
      "cell_type": "code",
      "execution_count": null,
      "metadata": {
        "id": "zoF_5A4Oulne"
      },
      "outputs": [],
      "source": [
        "# Convert data to PyTorch tensors\n",
        "X_train = torch.from_numpy(X_train).float()\n",
        "y_train = torch.from_numpy(y_train).float()\n",
        "X_val = torch.from_numpy(X_val).float()\n",
        "y_val = torch.from_numpy(y_val).float()\n",
        "X_test = torch.from_numpy(X_test).float()\n",
        "y_test = torch.from_numpy(y_test).float()"
      ]
    },
    {
      "cell_type": "markdown",
      "metadata": {
        "id": "VjlQpFWZulnf"
      },
      "source": [
        "# Implementing a neural network for regression"
      ]
    },
    {
      "cell_type": "code",
      "execution_count": null,
      "metadata": {
        "id": "W1Os025Julnf"
      },
      "outputs": [],
      "source": [
        "import torch.nn as nn\n",
        "\n",
        "class HousingModel(nn.Module):\n",
        "    def __init__(self, input_size):\n",
        "        super(HousingModel, self).__init__()\n",
        "        # Input Layer\n",
        "        self.linear1 = nn.Linear(input_size, 128)\n",
        "        self.bn1 = nn.BatchNorm1d(128)  # Batch Normalization\n",
        "        self.dropout1 = nn.Dropout(1/3)\n",
        "        self.elu1 = nn.ELU()\n",
        "\n",
        "        # Hidden Layer 1\n",
        "        self.linear2 = nn.Linear(128, 64)\n",
        "        self.bn2 = nn.BatchNorm1d(64)  # Batch Normalization\n",
        "        self.dropout2 = nn.Dropout(1/3)\n",
        "        self.elu2 = nn.ELU()\n",
        "\n",
        "        # Hidden Layer 2\n",
        "        self.linear3 = nn.Linear(64, 32)\n",
        "        self.bn3 = nn.BatchNorm1d(32)  # Batch Normalization\n",
        "        self.dropout3 = nn.Dropout(1/3)\n",
        "        self.elu3 = nn.ELU()\n",
        "\n",
        "        # Hidden Layer 3\n",
        "        self.linear4 = nn.Linear(32, 16)\n",
        "        self.bn4 = nn.BatchNorm1d(16)  # Batch Normalization\n",
        "        self.dropout4 = nn.Dropout(1/3)\n",
        "        self.elu4 = nn.ELU()\n",
        "\n",
        "        # Output Layer\n",
        "        self.output = nn.Linear(16, 1)\n",
        "\n",
        "    def forward(self, x):\n",
        "        x = self.linear1(x)\n",
        "        x = self.bn1(x)  # Batch Normalization\n",
        "        x = self.dropout1(x)\n",
        "        x = self.elu1(x)\n",
        "\n",
        "        x = self.linear2(x)\n",
        "        x = self.bn2(x)  # Batch Normalization\n",
        "        x = self.dropout2(x)\n",
        "        x = self.elu2(x)\n",
        "\n",
        "        x = self.linear3(x)\n",
        "        x = self.bn3(x)  # Batch Normalization\n",
        "        x = self.dropout3(x)\n",
        "        x = self.elu3(x)\n",
        "\n",
        "        x = self.linear4(x)\n",
        "        x = self.bn4(x)  # Batch Normalization\n",
        "        x = self.dropout4(x)\n",
        "        x = self.elu4(x)\n",
        "\n",
        "        return self.output(x)\n"
      ]
    },
    {
      "cell_type": "markdown",
      "metadata": {
        "id": "CjuLNw7rulnf"
      },
      "source": [
        "# Training and Validation\n"
      ]
    },
    {
      "cell_type": "code",
      "execution_count": null,
      "metadata": {
        "colab": {
          "base_uri": "https://localhost:8080/"
        },
        "id": "WSaax_Q9ulnf",
        "outputId": "db42128c-18b9-4714-cc88-f3da6b5ffc9f"
      },
      "outputs": [
        {
          "output_type": "stream",
          "name": "stderr",
          "text": [
            "C:\\Users\\Dell\\AppData\\Roaming\\Python\\Python311\\site-packages\\torch\\optim\\lr_scheduler.py:60: UserWarning: The verbose parameter is deprecated. Please use get_last_lr() to access the learning rate.\n",
            "  warnings.warn(\n"
          ]
        },
        {
          "output_type": "stream",
          "name": "stdout",
          "text": [
            "Epoch [50/500], Train Loss: 0.7688, Val Loss: 0.6087\n",
            "Epoch [100/500], Train Loss: 0.9164, Val Loss: 0.6121\n",
            "Epoch [150/500], Train Loss: 0.7260, Val Loss: 0.6107\n",
            "Epoch [200/500], Train Loss: 0.5280, Val Loss: 0.6134\n",
            "Epoch [250/500], Train Loss: 0.4746, Val Loss: 0.6115\n",
            "Epoch [300/500], Train Loss: 0.7195, Val Loss: 0.6111\n",
            "Epoch [350/500], Train Loss: 0.4781, Val Loss: 0.6139\n",
            "Epoch [400/500], Train Loss: 0.5796, Val Loss: 0.6166\n",
            "Epoch [450/500], Train Loss: 0.7404, Val Loss: 0.6187\n",
            "Epoch [500/500], Train Loss: 0.4710, Val Loss: 0.6159\n"
          ]
        }
      ],
      "source": [
        "epochs = 500\n",
        "model = HousingModel(input_size=11)\n",
        "criterion = nn.MSELoss()  # Use MSE for regression\n",
        "optimizer = optim.Adam(model.parameters(), lr=0.0001)  # Smaller learning rate and weight decay\n",
        "scheduler = lr_scheduler.ReduceLROnPlateau(optimizer, 'min', patience=5, factor=0.1, verbose=True)  # Adjust learning rate schedule\n",
        "batch_size = 32\n",
        "num_samples = X_train.shape[0]\n",
        "num_batches = num_samples // batch_size\n",
        "\n",
        "best_val_loss = float('inf')\n",
        "\n",
        "for epoch in range(epochs):\n",
        "    # Shuffle data\n",
        "    perm = torch.randperm(X_train.size(0))\n",
        "    X_train = X_train[perm]\n",
        "    y_train = y_train[perm]\n",
        "\n",
        "    # --- Training Phase ---\n",
        "    model.train()\n",
        "\n",
        "    for batch_idx in range(num_batches):\n",
        "        start_idx = batch_idx * batch_size\n",
        "        end_idx = min((batch_idx + 1) * batch_size, num_samples)\n",
        "        data = X_train[start_idx:end_idx]\n",
        "        target = y_train[start_idx:end_idx]\n",
        "\n",
        "        # Forward pass\n",
        "        y_pred = model(data)\n",
        "\n",
        "        # Compute the loss\n",
        "        loss = criterion(y_pred, target)\n",
        "\n",
        "        # Backward pass and optimization\n",
        "        optimizer.zero_grad()\n",
        "        loss.backward()\n",
        "        optimizer.step()\n",
        "\n",
        "    # --- Validation Phase ---\n",
        "    model.eval()\n",
        "    with torch.no_grad():\n",
        "        y_val_pred = model(X_val)\n",
        "        val_loss = criterion(y_val_pred, y_val)\n",
        "\n",
        "    # Update learning rate based on validation loss\n",
        "    scheduler.step(val_loss)\n",
        "\n",
        "    # Print the results every 50 epochs\n",
        "    if (epoch + 1) % 50 == 0:\n",
        "        print(f'Epoch [{epoch + 1}/{epochs}], Train Loss: {loss.item():.4f}, Val Loss: {val_loss.item():.4f}')\n"
      ]
    },
    {
      "cell_type": "markdown",
      "metadata": {
        "id": "96jTh0xOulng"
      },
      "source": [
        "## Model Evaluation with No Gradient Calculation\n",
        "\n",
        "The following code evaluates the performance of a trained model on the test dataset by computing common regression metrics like Mean Squared Error (MSE), Mean Absolute Error (MAE), and the R-squared (R²) score.\n"
      ]
    },
    {
      "cell_type": "code",
      "execution_count": null,
      "metadata": {
        "colab": {
          "base_uri": "https://localhost:8080/"
        },
        "id": "kPJeRqiEulng",
        "outputId": "be1bb01a-37f2-4a9a-9146-4302aa9d1bac"
      },
      "outputs": [
        {
          "output_type": "stream",
          "name": "stdout",
          "text": [
            "Mean Squared Error (MSE): 0.3974\n",
            "Mean Absolute Error (MAE): 0.4870\n",
            "R-squared (R2): 0.7350\n"
          ]
        }
      ],
      "source": [
        "# Evaluation with no gradient calculation\n",
        "with torch.no_grad():\n",
        "    y_pred_test = model(X_test)\n",
        "    # Compute the metrics\n",
        "    mse = mean_squared_error(y_test, y_pred_test)\n",
        "    mae = mean_absolute_error(y_test, y_pred_test)\n",
        "    r2 = r2_score(y_test, y_pred_test)\n",
        "\n",
        "    # Print the results\n",
        "    print(f\"Mean Squared Error (MSE): {mse:.4f}\")\n",
        "    print(f\"Mean Absolute Error (MAE): {mae:.4f}\")\n",
        "    print(f\"R-squared (R2): {r2:.4f}\")\n"
      ]
    },
    {
      "cell_type": "markdown",
      "metadata": {
        "id": "u-f-Uiowulng"
      },
      "source": [
        "# Model Testing Function"
      ]
    },
    {
      "cell_type": "code",
      "execution_count": null,
      "metadata": {
        "colab": {
          "base_uri": "https://localhost:8080/"
        },
        "id": "MopP-jZJulnh",
        "outputId": "2864539d-0e80-40fc-b092-fc6d96fe6f11"
      },
      "outputs": [
        {
          "output_type": "stream",
          "name": "stdout",
          "text": [
            "Test Loss: 0.3974\n"
          ]
        }
      ],
      "source": [
        "# Evaluate the model on the test set\n",
        "with torch.no_grad():\n",
        "    y_pred_test = model(X_test)\n",
        "    test_loss = criterion(y_pred_test, y_test)\n",
        "    print(f'Test Loss: {test_loss.item():.4f}')"
      ]
    },
    {
      "cell_type": "code",
      "source": [
        "import matplotlib.pyplot as plt\n",
        "\n",
        "# Assuming you have y_test (actual prices) and y_pred_test (predicted prices)\n",
        "\n",
        "plt.figure(figsize=(8, 6))  # Adjust figure size if needed\n",
        "plt.scatter(y_test, y_pred_test, alpha=0.5)  # Scatter plot\n",
        "plt.xlabel(\"Actual Prices\")\n",
        "plt.ylabel(\"Predicted Prices\")\n",
        "plt.title(\"Actual vs. Predicted Prices\")\n",
        "\n",
        "# Add a diagonal line for reference (perfect predictions)\n",
        "plt.plot([y_test.min(), y_test.max()], [y_test.min(), y_test.max()], 'k--', lw=2)\n",
        "\n",
        "plt.show()"
      ],
      "metadata": {
        "id": "aURLxQUBuyTx",
        "colab": {
          "base_uri": "https://localhost:8080/",
          "height": 564
        },
        "outputId": "6628e926-d502-45cc-f828-cc305e2a81fd"
      },
      "execution_count": null,
      "outputs": [
        {
          "output_type": "display_data",
          "data": {
            "text/plain": [
              "<Figure size 800x600 with 1 Axes>"
            ],
            "image/png": "[encoded data removed]"
          },
          "metadata": {}
        }
      ]
    },
    {
      "cell_type": "code",
      "source": [],
      "metadata": {
        "id": "vzTuhwPsTG0Y"
      },
      "execution_count": null,
      "outputs": []
    }
  ],
  "metadata": {
    "kernelspec": {
      "display_name": "Python 3",
      "language": "python",
      "name": "python3"
    },
    "language_info": {
      "codemirror_mode": {
        "name": "ipython",
        "version": 3
      },
      "file_extension": ".py",
      "mimetype": "text/x-python",
      "name": "python",
      "nbconvert_exporter": "python",
      "pygments_lexer": "ipython3",
      "version": "3.11.0"
    },
    "colab": {
      "provenance": []
    }
  },
  "nbformat": 4,
  "nbformat_minor": 0
}